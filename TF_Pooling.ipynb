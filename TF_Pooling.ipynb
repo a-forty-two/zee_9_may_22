{
  "nbformat": 4,
  "nbformat_minor": 0,
  "metadata": {
    "colab": {
      "name": "TCS 02 Pooling.ipynb",
      "provenance": [],
      "authorship_tag": "ABX9TyOHbtu0fkhf7lmWplyN1Xk+",
      "include_colab_link": true
    },
    "kernelspec": {
      "name": "python3",
      "display_name": "Python 3"
    },
    "language_info": {
      "name": "python"
    }
  },
  "cells": [
    {
      "cell_type": "markdown",
      "metadata": {
        "id": "view-in-github",
        "colab_type": "text"
      },
      "source": [
        "<a href=\"https://colab.research.google.com/github/a-forty-two/zee_9_may_22/blob/main/TF_Pooling.ipynb\" target=\"_parent\"><img src=\"https://colab.research.google.com/assets/colab-badge.svg\" alt=\"Open In Colab\"/></a>"
      ]
    },
    {
      "cell_type": "code",
      "metadata": {
        "id": "Sx3acyan6MOh"
      },
      "source": [
        "import tensorflow as tf"
      ],
      "execution_count": 1,
      "outputs": []
    },
    {
      "cell_type": "code",
      "metadata": {
        "id": "MxvJGbdI6_JC"
      },
      "source": [
        "temp = [0., 0., 1., 0., 0., 2., 1., 0., 1., 0.]\n",
        "values = tf.reshape(temp, [1,1,2,5])\n",
        "# PRODUCT of shape should be constant!"
      ],
      "execution_count": 2,
      "outputs": []
    },
    {
      "cell_type": "code",
      "metadata": {
        "colab": {
          "base_uri": "https://localhost:8080/"
        },
        "id": "O_a3GouV7Uuk",
        "outputId": "4306aff3-434a-40e6-f1f5-c7ae45fe6dbf"
      },
      "source": [
        "print(\"TF version = \" + tf.__version__)\n",
        "values\n",
        "# eager evaluation"
      ],
      "execution_count": 3,
      "outputs": [
        {
          "output_type": "stream",
          "name": "stdout",
          "text": [
            "TF version = 2.8.0\n"
          ]
        },
        {
          "output_type": "execute_result",
          "data": {
            "text/plain": [
              "<tf.Tensor: shape=(1, 1, 2, 5), dtype=float32, numpy=\n",
              "array([[[[0., 0., 1., 0., 0.],\n",
              "         [2., 1., 0., 1., 0.]]]], dtype=float32)>"
            ]
          },
          "metadata": {},
          "execution_count": 3
        }
      ]
    },
    {
      "cell_type": "code",
      "metadata": {
        "colab": {
          "base_uri": "https://localhost:8080/"
        },
        "id": "yW-UY1DT7Wim",
        "outputId": "3e728878-8ed9-4884-e1f2-0a0675eb40bb"
      },
      "source": [
        "%tensorflow_version 1.x\n",
        "import tensorflow as tf\n",
        "temp = [0., 0., 1., 0., 0., 2., 1., 0., 1., 0.]\n",
        "values = tf.reshape(temp, [1,1,2,5])\n",
        "print(\"TF version = \" + tf.__version__)\n",
        "values\n",
        "# Lazy evaluation-> graph will be waited, and built later"
      ],
      "execution_count": 1,
      "outputs": [
        {
          "output_type": "stream",
          "name": "stdout",
          "text": [
            "TensorFlow 1.x selected.\n",
            "TF version = 1.15.2\n"
          ]
        },
        {
          "output_type": "execute_result",
          "data": {
            "text/plain": [
              "<tf.Tensor 'Reshape:0' shape=(1, 1, 2, 5) dtype=float32>"
            ]
          },
          "metadata": {},
          "execution_count": 1
        }
      ]
    },
    {
      "cell_type": "code",
      "metadata": {
        "id": "QGO9T0k77uUr",
        "colab": {
          "base_uri": "https://localhost:8080/"
        },
        "outputId": "af8ba512-3b42-4ccb-fbba-e2952a63a3ba"
      },
      "source": [
        "%tensorflow_version 2.x\n",
        "import tensorflow as tf\n",
        "temp = [0., 0., 1., 0., 0., 2., 1., 0., 1., 0., 1, 1]\n",
        "values = tf.reshape(temp, [1,1,3,4])\n",
        "values"
      ],
      "execution_count": 9,
      "outputs": [
        {
          "output_type": "execute_result",
          "data": {
            "text/plain": [
              "<tf.Tensor: shape=(1, 1, 3, 4), dtype=float32, numpy=\n",
              "array([[[[0., 0., 1., 0.],\n",
              "         [0., 2., 1., 0.],\n",
              "         [1., 0., 1., 1.]]]], dtype=float32)>"
            ]
          },
          "metadata": {},
          "execution_count": 9
        }
      ]
    },
    {
      "cell_type": "code",
      "source": [
        "# 1,1,1,1 -> SCALAR\n",
        "# 1,1,1,X -> Vector \n",
        "# 1,1,M,N -> Matrix \n",
        "# 1,L,M,N -> Cube/Cuboids\n"
      ],
      "metadata": {
        "id": "IGaXSNqw1Kp9"
      },
      "execution_count": null,
      "outputs": []
    },
    {
      "cell_type": "code",
      "metadata": {
        "id": "TVKxALk08Eyh"
      },
      "source": [
        "avgpool = tf.nn.pool(input=values, window_shape=(1,2), pooling_type='AVG', padding ='SAME')\n",
        "maxpool=  tf.nn.pool(input=values, window_shape=(1,2), pooling_type='MAX', padding ='SAME')"
      ],
      "execution_count": 10,
      "outputs": []
    },
    {
      "cell_type": "code",
      "metadata": {
        "colab": {
          "base_uri": "https://localhost:8080/"
        },
        "id": "CAdaZLxW8iBD",
        "outputId": "dd3ae092-ab49-4b15-a09e-3603a96adb2a"
      },
      "source": [
        "avgpool"
      ],
      "execution_count": 11,
      "outputs": [
        {
          "output_type": "execute_result",
          "data": {
            "text/plain": [
              "<tf.Tensor: shape=(1, 1, 3, 4), dtype=float32, numpy=\n",
              "array([[[[0. , 1. , 1. , 0. ],\n",
              "         [0.5, 1. , 1. , 0.5],\n",
              "         [1. , 0. , 1. , 1. ]]]], dtype=float32)>"
            ]
          },
          "metadata": {},
          "execution_count": 11
        }
      ]
    },
    {
      "cell_type": "code",
      "metadata": {
        "colab": {
          "base_uri": "https://localhost:8080/"
        },
        "id": "MN4EKIw-8kiA",
        "outputId": "f1f1f4a2-c0b8-4822-f04f-3e73d9db414e"
      },
      "source": [
        "maxpool"
      ],
      "execution_count": 12,
      "outputs": [
        {
          "output_type": "execute_result",
          "data": {
            "text/plain": [
              "<tf.Tensor: shape=(1, 1, 3, 4), dtype=float32, numpy=\n",
              "array([[[[0., 2., 1., 0.],\n",
              "         [1., 2., 1., 1.],\n",
              "         [1., 0., 1., 1.]]]], dtype=float32)>"
            ]
          },
          "metadata": {},
          "execution_count": 12
        }
      ]
    },
    {
      "cell_type": "code",
      "metadata": {
        "id": "vVbys9c384PB"
      },
      "source": [
        "temp = [0., 0., 1., 0., 0., 2., 1., 0., 1., 0., 1, 1]\n",
        "values = tf.reshape(temp, [1,2,3,2])\n",
        "avgpool = tf.nn.pool(input=values, window_shape=(2,2), pooling_type='AVG', padding ='VALID')\n",
        "maxpool=  tf.nn.pool(input=values, window_shape=(2,2), pooling_type='MAX', padding ='VALID')"
      ],
      "execution_count": 16,
      "outputs": []
    },
    {
      "cell_type": "code",
      "source": [
        "values"
      ],
      "metadata": {
        "colab": {
          "base_uri": "https://localhost:8080/"
        },
        "id": "xvEKTf3LzF8Q",
        "outputId": "5e870a07-7cf2-417d-dfa4-34059eae2d21"
      },
      "execution_count": 18,
      "outputs": [
        {
          "output_type": "execute_result",
          "data": {
            "text/plain": [
              "<tf.Tensor: shape=(1, 2, 3, 2), dtype=float32, numpy=\n",
              "array([[[[0., 0.],\n",
              "         [1., 0.],\n",
              "         [0., 2.]],\n",
              "\n",
              "        [[1., 0.],\n",
              "         [1., 0.],\n",
              "         [1., 1.]]]], dtype=float32)>"
            ]
          },
          "metadata": {},
          "execution_count": 18
        }
      ]
    },
    {
      "cell_type": "code",
      "metadata": {
        "colab": {
          "base_uri": "https://localhost:8080/"
        },
        "id": "kYJepL_L9Bzc",
        "outputId": "f810ee41-4c50-433f-d9fd-a5c37e78b504"
      },
      "source": [
        "avgpool"
      ],
      "execution_count": 17,
      "outputs": [
        {
          "output_type": "execute_result",
          "data": {
            "text/plain": [
              "<tf.Tensor: shape=(1, 1, 2, 2), dtype=float32, numpy=\n",
              "array([[[[0.75, 0.  ],\n",
              "         [0.75, 0.75]]]], dtype=float32)>"
            ]
          },
          "metadata": {},
          "execution_count": 17
        }
      ]
    },
    {
      "cell_type": "code",
      "metadata": {
        "id": "LBuRrq0c9C_N",
        "outputId": "f237b995-ec65-4750-d8da-e167123dd745",
        "colab": {
          "base_uri": "https://localhost:8080/"
        }
      },
      "source": [
        "maxpool"
      ],
      "execution_count": 7,
      "outputs": [
        {
          "output_type": "execute_result",
          "data": {
            "text/plain": [
              "<tf.Tensor: shape=(1, 0, 1, 5), dtype=float32, numpy=array([], shape=(1, 0, 1, 5), dtype=float32)>"
            ]
          },
          "metadata": {},
          "execution_count": 7
        }
      ]
    },
    {
      "cell_type": "code",
      "metadata": {
        "id": "pLn37zXU9D_Q",
        "colab": {
          "base_uri": "https://localhost:8080/",
          "height": 35
        },
        "outputId": "c209cc0d-3e3b-4364-fb2d-b885e996f93d"
      },
      "source": [
        "tf.__version__"
      ],
      "execution_count": 19,
      "outputs": [
        {
          "output_type": "execute_result",
          "data": {
            "text/plain": [
              "'2.8.0'"
            ],
            "application/vnd.google.colaboratory.intrinsic+json": {
              "type": "string"
            }
          },
          "metadata": {},
          "execution_count": 19
        }
      ]
    },
    {
      "cell_type": "code",
      "source": [
        "#Matrix-> 3X2  * 9X9\n",
        "# 1024 X 768\n",
        "# 5X5 "
      ],
      "metadata": {
        "id": "2z_-VD30xF9H"
      },
      "execution_count": null,
      "outputs": []
    }
  ]
}